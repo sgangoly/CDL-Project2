{
 "cells": [
  {
   "cell_type": "markdown",
   "metadata": {},
   "source": [
    "# Further Challenges #"
   ]
  },
  {
   "cell_type": "markdown",
   "metadata": {},
   "source": [
    "### 1.  ###  \n",
    "\n",
    "#### Q  How to obtain excited electronic states of the same or di\u000b",
    "erent symmetry?\n",
    "\n",
    "One of the methods to calculate excited electronic states is to investigate symmetry-projected Hartree–Fock (HF) methods which provide a compact representation of molecular ground state wavefunctions. The calculation based on symmetry-projected ansatz can account for static correlations is based on superposition of non-orthogonal Slater determinants [1] . The calculation is deemed to be computationally efficient. A extension of the method utimising a variational extension was demonstrated by  Carlos A. Jiménez-Hoyos, R. Rodríguez-Guzmán, and Gustavo E. Scuseria [1].\n",
    "\n",
    "Some of the ab initio calculations also include the following:\n",
    "\n",
    "#### Spin states:  \n",
    "Computations target the lowest energy state of a specified multiplicity. Thus calculations for different spin states will give a lowest energy state and a few of the excited states. This is most often done to determine singlet - triplet gaps in organic molecules.\n",
    "\n",
    "#### CIS: \n",
    "A single excitation configuration interaction (CIS) calculation. One of the easiest calculations to perform. A configuration interaction calculation uses molecular orbitals that have been optimized typically with a Hartree-Fock (HF) calculation. Generalized Valence Bond (GVB) and multi-configuration self consistent field (MCSCF) calculations can also be used as a starting point for a configuration interaction calculation.\n",
    "\n",
    "A CIS calculation starts with this initial set of orbitals and moves one electron to one of the virtual orbitals from the original calculation. This gives a description of one of the excited states of the molecule, but does not change the quality of the description of the ground state as double excitation CIs do. This gives a wave function of somewhat lesser quality than the original calculation since the orbitals have been optimized for the ground state. Often this results in the ground state energy being a bit low relative to the other states.\n",
    "\n",
    "A CIS calculation is not extremely accurate. However, it has the advantage of being able to compute many excited state energies easily.\n",
    "\n",
    "\n",
    "#### Initial guess Ansatz: \n",
    "If the initial guess for a calculation is very close to an excited state wave function, the calculation may converge to that excited state. This is typically done by doing an initial calculation then using it's wave function with some of the orbitals switched as the initial guess for another calculation. The advantage of this method is that the orbitals get optimized for the excited state.\n",
    "\n",
    "The disadvantage is that there is no guarantee that it will work. If there is no energy barrier between the initial guess and the ground state wave function, the entire calculation will converge back to the ground state. The convergence path may take the calculation to an undesired state in any case.\n",
    "\n",
    "A second disadvantage of this technique applies if the state is the same symmetry as a lower energy state. There is no guarantee that the state obtained is completely orthogonal to the ground state. This means that the wave function obtained may be some mix of the lower energy state and a higher energy state. In practice, this type of calculation only converges to a higher state if a fairly reasonable description of the excited state wave function is obtained. Mixing tends to be a significant concern if the orbital energies are very close together or the system is very sensitive to correlation effects.\n",
    "\n",
    "#### Block diagonal Hamiltonians: \n",
    "Most ab initio calculations use symmetry adapted molecular orbitals. Under this scheme, the Hamiltonian matrix is block diagonal meaning that every molecular orbital will behave according to the symmetry of one of the irreducible representations of the point group. No orbitals will be described by a mixing of different irreducible representations. Some programs set up a separate matrix for each irriducible representation and solve them separately. Such programs give the user the option of defining how many electrons are of each irreducible representation. This defines the symmetry of the wave function. In this case the resulting wave function is the lowest energy wave function of a particular symmetry. This is a reasonably good way to get excited states which differ in symmetry from the ground state and are the lowest energy state within that symmetry.\n",
    "\n",
    "#### Path integral methods: \n",
    "There has been some initial success at computing excited state energies using the path integral formulation of quantum mechanics (Feynman's method). In this formulation the energies are computed using perturbation theory. There has not yet been enough work in this area to give any general understanding of the reliability of results or relative difficulty of performing the calculations. However, the work that has been done indicates that this may in time be a viable alternative to the other methods mentioned here.\n",
    "\n",
    "#### Ignoring a basis \n",
    "function: This is where the program allows a calculation to be done with some orbitals completely neglected from the calculation. This is one of the ways to get an excited state wave function even when it is not the lowest energy wave function of that symmetry. However it might take a bit of work to construct the input file depending upon the individual program.\n",
    "\n",
    "Other methods of computation of excited states using variational techniques include Variational quantum deflation algorithm, Overlap weighting, Low-depth implementations, using a Nelder-Mead optimiser and UCCSD ansatz in simulation of molecular Hydrogen [3]. \n",
    "\n",
    "Given its low resource requirements and compatibility with error-mitigation techniques, it is hopefull that VQD may enable the quantum-enhanced computation of excited state energies in the near-future.\n",
    "\n",
    "#### References\n",
    "1. Carlos A. Jiménez-Hoyos, R. Rodríguez-Guzmán, and Gustavo E. Scuseria. Excited electronic states from a variational approach based on symmetry-projected Hartree–Fock configurations, J. Chem. Phys. 139, 224110 (2013).\n",
    "\n",
    "2. Muhammad Usman, Yui Hong Matthias Tan, Hoon Ryu, Shaikh S. Ahmed, Timothy B. Boykin, and Gerhard Klimeck. Quantitative Excited State Spectroscopy of a Single InGaAs Quantum Dot Molecule through Multi-million Atom Electronic Structure Calculations, Nanotechnology, August 2011\n",
    "\n",
    "3. Oscar Higgott, Daochen Wang, and Stephen Brierley. Variational Quantum Computation of Excited States, Quantum 3, 156 (2019), arXiv:1805.08138v5"
   ]
  },
  {
   "cell_type": "code",
   "execution_count": null,
   "metadata": {},
   "outputs": [],
   "source": []
  }
 ],
 "metadata": {
  "kernelspec": {
   "display_name": "Python 3",
   "language": "python",
   "name": "python3"
  },
  "language_info": {
   "codemirror_mode": {
    "name": "ipython",
    "version": 3
   },
   "file_extension": ".py",
   "mimetype": "text/x-python",
   "name": "python",
   "nbconvert_exporter": "python",
   "pygments_lexer": "ipython3",
   "version": "3.7.6"
  }
 },
 "nbformat": 4,
 "nbformat_minor": 4
}
